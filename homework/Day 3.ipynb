{
 "cells": [
  {
   "cell_type": "code",
   "execution_count": null,
   "metadata": {},
   "outputs": [],
   "source": [
    "\"\"\"\n",
    "1.目標\n",
    "Deepfake技術現身印度選舉，被候選人用在競選拉票的宣傳上，雖然該候選人以慘敗而收場，不過這引起世人對於Deepfake的警戒心。近日，微軟亞洲研界院提出檢測換臉圖像的方法(Face X-Ray)，該技術發表在論文《Face X-Ray for More General Face Forgery Detection》中，此工具有助於防止換臉圖像被濫用，該項技術具有能夠準確檢驗未知圖像，這是與現有方法有所不同之處。\n",
    "\n",
    "2.方法\n",
    "Face X-Ray會生成灰度圖像，顯示給定的輸入圖像是否可以分解為來自不同來源的兩個圖像的混合，具有識別和解釋此兩種功能。\n",
    "Face X-Ray方法可以針對合成圖片的共性：圖片拼接，即一張圖片和另一張圖片混合。檢測圖片可能存在的混合區域，分析差異，找到圖片標記，從而判斷是否是合成圖片。\n",
    "採用了基於卷積神經網絡的框架。其中輸入為圖像，輸出為Face X-Ray，然後基於預測的Face X-Ray，輸出一個圖像是否真實的混合機率。\n",
    "\n",
    "3.資料來源\n",
    "在實驗部分，研究人員在Face Forensics++和另一個包含由真實圖像構建的混合圖像的訓練數據集上訓練了Face X-Ray，訓練只採用數據庫裡的“真圖”，不使用假圖。其中，Face Forensics++是一個包含1000多個用四種最先進的面部操作方法操作的原始剪輯的大型視頻語料庫，包括DeepFake、Face2Face、Face Swap、NeuralTextures。\n",
    "在測試部分評估了Face X-Ray使用四個數據集的泛化能力。這四個數據集包括：Face Forensics++、Deepfakedetection、Deepfake Detection Challenge、celeb-DF。\n",
    "\n",
    "\"\"\""
   ]
  }
 ],
 "metadata": {
  "kernelspec": {
   "display_name": "Python 3",
   "language": "python",
   "name": "python3"
  },
  "language_info": {
   "codemirror_mode": {
    "name": "ipython",
    "version": 3
   },
   "file_extension": ".py",
   "mimetype": "text/x-python",
   "name": "python",
   "nbconvert_exporter": "python",
   "pygments_lexer": "ipython3",
   "version": "3.7.4"
  }
 },
 "nbformat": 4,
 "nbformat_minor": 2
}
